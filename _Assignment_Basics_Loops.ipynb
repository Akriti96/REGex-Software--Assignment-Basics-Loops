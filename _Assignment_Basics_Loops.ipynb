{
  "nbformat": 4,
  "nbformat_minor": 0,
  "metadata": {
    "colab": {
      "name": "#Assignment #Basics #Loops",
      "provenance": []
    },
    "kernelspec": {
      "name": "python3",
      "display_name": "Python 3"
    },
    "language_info": {
      "name": "python"
    }
  },
  "cells": [
    {
      "cell_type": "markdown",
      "source": [
        "**Q1 Try to create a program such that to find any string is a palindrome or not\n",
        "        \"NAMAN\"**\n",
        " [Don't use the avaible method of Python or the slicing operator [::-1] ]"
      ],
      "metadata": {
        "id": "LHNiCb4BH-qq"
      }
    },
    {
      "cell_type": "code",
      "source": [
        "# method one\n",
        "strque=[]\n",
        "def insertRear(que,ch):\n",
        "  que.append(ch)\n",
        "def deletionFront(que):\n",
        "  if que !=[]:\n",
        "    return que.pop(0)\n",
        "def deletionRear(que):\n",
        "  if que !=[]:\n",
        "    return que.pop()\n",
        "\n",
        "def palindromeCheck(string):\n",
        "  palindrome=True\n",
        "  for ch in string:\n",
        "    insertRear(strque,ch)\n",
        "  while len(strque)>1 and palindrome:\n",
        "    first= deletionFront(strque)\n",
        "    last=deletionRear(strque)\n",
        "    if first !=last:\n",
        "      palindrome=False\n",
        "  return palindrome\n",
        "\n",
        "\n",
        "string=input(\"Enter the string:  \")\n",
        "if palindromeCheck(string):\n",
        "  print(\"Given String \", string,\"is a PALINDROME\")\n",
        "else:\n",
        "   print(\"Given String \", string,\"is NOT a PALINDROME\")\n",
        "\n",
        "\n",
        "\n"
      ],
      "metadata": {
        "colab": {
          "base_uri": "https://localhost:8080/"
        },
        "id": "oBvUHnepIFP6",
        "outputId": "fae2ea43-6560-476a-b4cb-bf13a2c95249"
      },
      "execution_count": 5,
      "outputs": [
        {
          "output_type": "stream",
          "name": "stdout",
          "text": [
            "Enter the string:  YAMUNA\n",
            "Given String  YAMUNA is NOT a PALINDROME\n"
          ]
        }
      ]
    },
    {
      "cell_type": "markdown",
      "source": [
        "**Q2 Take a number and try to keep dividing it by second number\n",
        "        134578  ,  2**"
      ],
      "metadata": {
        "id": "TacIhk_tLX7Y"
      }
    },
    {
      "cell_type": "code",
      "source": [
        "\n",
        "def number(n):\n",
        "  x =[int(a) for a in str(n)]\n",
        "  b=n/x[1]\n",
        "  return b\n",
        "\n",
        "p= int(input(\"Enter the number: \"))\n",
        "result=number(p)\n",
        "print(result)\n"
      ],
      "metadata": {
        "id": "lFih_w62Jsrc",
        "colab": {
          "base_uri": "https://localhost:8080/"
        },
        "outputId": "014ecd98-9437-429a-c544-e19e0e0bfac9"
      },
      "execution_count": 42,
      "outputs": [
        {
          "output_type": "stream",
          "name": "stdout",
          "text": [
            "Enter the number: 13456789\n",
            "4485596.333333333\n"
          ]
        }
      ]
    },
    {
      "cell_type": "code",
      "source": [
        ""
      ],
      "metadata": {
        "id": "Tnu7Rkt6PYNc"
      },
      "execution_count": null,
      "outputs": []
    }
  ]
}